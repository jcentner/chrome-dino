{
 "cells": [
  {
   "cell_type": "markdown",
   "metadata": {},
   "source": [
    "Use Selenium and OpenCV to generate a set of labelled training images for later use training the model. "
   ]
  },
  {
   "cell_type": "code",
   "execution_count": 1,
   "metadata": {},
   "outputs": [],
   "source": [
    "%matplotlib inline"
   ]
  },
  {
   "cell_type": "code",
   "execution_count": 2,
   "metadata": {},
   "outputs": [],
   "source": [
    "from __future__ import print_function\n",
    "#import tensorflow as tf\n",
    "import numpy as np\n",
    "\n",
    "import cv2\n",
    "from PIL import ImageGrab\n",
    "import pyautogui\n",
    "import keyboard\n",
    "\n",
    "from selenium import webdriver\n",
    "from selenium.webdriver.common.by import By\n",
    "from selenium.webdriver.common.keys import Keys\n",
    "from selenium.webdriver.support.ui import WebDriverWait\n",
    "from selenium.webdriver.support import expected_conditions as EC\n",
    "from selenium.webdriver.chrome.options import Options\n",
    "\n",
    "import time\n",
    "#import sys\n",
    "import os"
   ]
  },
  {
   "cell_type": "code",
   "execution_count": 3,
   "metadata": {},
   "outputs": [],
   "source": [
    "#Helper Functions\n",
    "\n",
    "#for driver\n",
    "driver = \"\"\n",
    "chrome_path = r\"chromedriver_win32\\chromedriver.exe\" \n",
    "startpage = \"chrome://dino/\"\n",
    "\n",
    "def initDriver(): #set up driver and connect  \n",
    "    global driver\n",
    "    chrome_options = Options()\n",
    "    chrome_options.add_argument(\"--window-size=640,480\")\n",
    "    #chrome_options.add_argument(\"--app=http://www.google.com\");\n",
    "    driver = webdriver.Chrome(executable_path=chrome_path, options=chrome_options)\n",
    "    driver.get(startpage)\n",
    "\n",
    "def endDriver(): #close driver\n",
    "    global driver\n",
    "    driver.quit()\n",
    "    \n",
    "#return B&W, cropped image\n",
    "#intention is to minimize image complexity while preserving relevant features\n",
    "#increases AI performance by increasing FPS and eliminating irrelevant features\n",
    "#also returns W&B, inverted image\n",
    "#data augmentation: switch black and white\n",
    "#doubles training data, improves robustness\n",
    "\n",
    "def processImage(frame): \n",
    "    greyImg = cv2.cvtColor(frame, cv2.COLOR_BGR2GRAY)\n",
    "    ret, BWImg = cv2.threshold(greyImg,127,255,cv2.THRESH_BINARY)\n",
    "    processedImg = cv2.resize(BWImg,(120, 40), interpolation = cv2.INTER_AREA)\n",
    "    inverted = cv2.bitwise_not(processedImg)\n",
    "    return processedImg,inverted\n",
    " "
   ]
  },
  {
   "cell_type": "code",
   "execution_count": 4,
   "metadata": {},
   "outputs": [],
   "source": [
    "initDriver()\n",
    "pyautogui.FAILSAFE = True\n",
    "\n",
    "#top for training data, bottom for validation/test data\n",
    "#path = r'C:\\Users\\jakce\\Desktop\\COSC 5550\\Final Project\\DinoRunner Training Data\\images'\n",
    "#path = r'C:\\Users\\jakce\\Desktop\\COSC 5550\\Final Project\\DinoRunner Training Data\\testimages'\n",
    "path = r'C:\\Users\\jakce\\Desktop\\Final Project\\DinoRunner Training Data\\testing'"
   ]
  },
  {
   "cell_type": "code",
   "execution_count": 5,
   "metadata": {},
   "outputs": [
    {
     "name": "stdout",
     "output_type": "stream",
     "text": [
      "3\n",
      "2\n",
      "1\n"
     ]
    },
    {
     "name": "stderr",
     "output_type": "stream",
     "text": [
      "Exception in thread Thread-6:\n",
      "Traceback (most recent call last):\n",
      "  File \"C:\\Users\\jakce\\anaconda3\\envs\\tf_gpu\\lib\\threading.py\", line 932, in _bootstrap_inner\n",
      "    self.run()\n",
      "  File \"C:\\Users\\jakce\\anaconda3\\envs\\tf_gpu\\lib\\threading.py\", line 870, in run\n",
      "    self._target(*self._args, **self._kwargs)\n",
      "  File \"C:\\Users\\jakce\\Desktop\\Final Project\\DinoRunner Training Data\\keyboard\\__init__.py\", line 292, in listen\n",
      "    _os_keyboard.listen(self.direct_callback)\n",
      "  File \"C:\\Users\\jakce\\Desktop\\Final Project\\DinoRunner Training Data\\keyboard\\_winkeyboard.py\", line 560, in listen\n",
      "    prepare_intercept(callback)\n",
      "  File \"C:\\Users\\jakce\\Desktop\\Final Project\\DinoRunner Training Data\\keyboard\\_winkeyboard.py\", line 553, in prepare_intercept\n",
      "    keyboard_hook = SetWindowsHookEx(WH_KEYBOARD_LL, keyboard_callback, GetModuleHandleW(NULL), NULL)\n",
      "ctypes.ArgumentError: argument 3: <class 'OverflowError'>: int too long to convert\n"
     ]
    },
    {
     "name": "stdout",
     "output_type": "stream",
     "text": [
      "Average frame time: 0.0646322496475712 seconds\n",
      "Average Framerate: 15.472152144677496 fps\n",
      "Total frames: 155 frames\n",
      "Total time: 10 seconds\n"
     ]
    }
   ],
   "source": [
    "#delayed start\n",
    "for i in list(range(3))[::-1]:\n",
    "    print(i+1)\n",
    "    time.sleep(1)\n",
    "    \n",
    "#define output window \n",
    "cv2.namedWindow('output', cv2.WINDOW_NORMAL)\n",
    "cv2.resizeWindow('output', 600, 220)\n",
    "    \n",
    "#select game window\n",
    "pyautogui.click(x=100, y=400)\n",
    "\n",
    "#main loop\n",
    "last_time = time.time()\n",
    "times = []\n",
    "images = []\n",
    "i = 13620\n",
    "key = 0\n",
    "imgpath = ''\n",
    "start_time = time.time()\n",
    "while(True):\n",
    "    \n",
    "    #screen capture\n",
    "    frame = np.array(ImageGrab.grab(bbox = (30,210, 630, 410))) #score cut\n",
    "    \n",
    "    #get keyboard input\n",
    "    if keyboard.is_pressed('space'):\n",
    "        key = 1\n",
    "    else:\n",
    "        key = 0\n",
    "    \n",
    "    times.append(time.time()-last_time)\n",
    "    last_time = time.time()\n",
    "    \n",
    "    #process capture\n",
    "    current_time = int(round(time.time() - start_time))\n",
    "    frame_processed, frame_inverted = processImage(frame)\n",
    "    \n",
    "    #add time in seconds so AI knows how fast to go\n",
    "    cv2.putText(frame_processed,\n",
    "                text = str(current_time),\n",
    "                org = (60,10),\n",
    "                fontFace = cv2.FONT_HERSHEY_PLAIN,\n",
    "                fontScale = 1,\n",
    "                color = 127)\n",
    "    \n",
    "    cv2.putText(frame_inverted,\n",
    "                text = str(current_time),\n",
    "                org = (60,10),\n",
    "                fontFace = cv2.FONT_HERSHEY_PLAIN,\n",
    "                fontScale = 1,\n",
    "                color = 127)\n",
    "    \n",
    "    #output of capture\n",
    "    cv2.imshow('output', frame_processed) #processed\n",
    "    \n",
    "    #save images - sort into label folders\n",
    "    if (key == 1): #space pressed for this frame\n",
    "        imgpath = os.path.join(path, \"1\")\n",
    "    elif (key == 0): #no space\n",
    "        imgpath = os.path.join(path, \"0\")\n",
    "        \n",
    "    #cv2.imwrite(os.path.join(imgpath ,\"img-\" + str(i) + \".jpg\"), frame_processed)\n",
    "    #cv2.imwrite(os.path.join(imgpath ,\"img-\" + str(i+1) + \".jpg\"), frame_inverted)\n",
    "    \n",
    "    #close session on q\n",
    "    if cv2.waitKey(10) & 0xFF == ord('q'):\n",
    "        cv2.destroyAllWindows()\n",
    "        print('Average frame time: {} seconds'.format(np.mean(times)))\n",
    "        print('Average Framerate: {} fps'.format(1/np.mean(times)))\n",
    "        print('Total frames: {} frames'.format(len(times)))\n",
    "        print('Total time: {} seconds'.format(current_time))\n",
    "        #CPU single-threaded limited performance (numpy, opencv)\n",
    "        break\n",
    "    \n",
    "    i = i + 2"
   ]
  },
  {
   "cell_type": "code",
   "execution_count": null,
   "metadata": {},
   "outputs": [],
   "source": []
  },
  {
   "cell_type": "code",
   "execution_count": null,
   "metadata": {},
   "outputs": [],
   "source": []
  }
 ],
 "metadata": {
  "kernelspec": {
   "display_name": "Python 3",
   "language": "python",
   "name": "python3"
  },
  "language_info": {
   "codemirror_mode": {
    "name": "ipython",
    "version": 3
   },
   "file_extension": ".py",
   "mimetype": "text/x-python",
   "name": "python",
   "nbconvert_exporter": "python",
   "pygments_lexer": "ipython3",
   "version": "3.8.8"
  }
 },
 "nbformat": 4,
 "nbformat_minor": 2
}
