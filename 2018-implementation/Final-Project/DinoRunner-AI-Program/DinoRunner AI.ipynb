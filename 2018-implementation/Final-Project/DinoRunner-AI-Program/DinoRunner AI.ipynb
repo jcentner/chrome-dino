{
 "cells": [
  {
   "cell_type": "markdown",
   "metadata": {},
   "source": [
    "Apply the previously created model to real-time data to play the game."
   ]
  },
  {
   "cell_type": "code",
   "execution_count": 1,
   "metadata": {},
   "outputs": [],
   "source": [
    "%matplotlib inline"
   ]
  },
  {
   "cell_type": "code",
   "execution_count": 2,
   "metadata": {},
   "outputs": [],
   "source": [
    "from __future__ import print_function\n",
    "import numpy as np\n",
    "import cv2\n",
    "from PIL import ImageGrab\n",
    "import pyautogui\n",
    "\n",
    "import matplotlib.pyplot as plt\n",
    "plt.style.use('ggplot')\n",
    "\n",
    "from keras.models import Model, Sequential, load_model\n",
    "from keras.layers import Dense, Input, Conv2D, MaxPooling2D, Flatten, Dropout\n",
    "from keras.optimizers import Adam\n",
    "from keras import activations\n",
    "from keras.preprocessing.image import ImageDataGenerator\n",
    "\n",
    "from selenium import webdriver\n",
    "from selenium.webdriver.common.by import By\n",
    "from selenium.webdriver.common.keys import Keys\n",
    "from selenium.webdriver.support.ui import WebDriverWait\n",
    "from selenium.webdriver.support import expected_conditions as EC\n",
    "from selenium.webdriver.chrome.options import Options\n",
    "\n",
    "import time\n",
    "import sys"
   ]
  },
  {
   "cell_type": "code",
   "execution_count": 3,
   "metadata": {},
   "outputs": [],
   "source": [
    "#utility functions\n",
    "\n",
    "#for driver\n",
    "driver = \"\"\n",
    "chrome_path = r\"chromedriver_win32\\chromedriver.exe\" \n",
    "startpage = \"chrome://dino/\"\n",
    "\n",
    "def initDriver(): #set up driver and connect  \n",
    "    global driver\n",
    "    chrome_options = Options()\n",
    "    chrome_options.add_argument(\"--window-size=640,480\")\n",
    "    driver = webdriver.Chrome(executable_path=chrome_path, options=chrome_options)\n",
    "    driver.get(startpage)\n",
    "\n",
    "def endDriver(): #close driver\n",
    "    global driver\n",
    "    driver.quit()\n",
    "    \n",
    "def processImage(frame): \n",
    "    greyImg = cv2.cvtColor(frame, cv2.COLOR_BGR2GRAY)\n",
    "    ret, BWImg = cv2.threshold(greyImg,127,255,cv2.THRESH_BINARY)\n",
    "    processedImg = cv2.resize(BWImg,(120, 40), interpolation = cv2.INTER_AREA)\n",
    "    return processedImg\n",
    " "
   ]
  },
  {
   "cell_type": "code",
   "execution_count": 4,
   "metadata": {},
   "outputs": [],
   "source": [
    "#load model\n",
    "model = load_model('DinoRunner_AI_Model.h5')"
   ]
  },
  {
   "cell_type": "code",
   "execution_count": 17,
   "metadata": {
    "scrolled": true
   },
   "outputs": [
    {
     "name": "stdout",
     "output_type": "stream",
     "text": [
      "3\n",
      "2\n",
      "1\n",
      "Average frame time: 0.12017183155976524 seconds\n",
      "Average Framerate: 8.32141764854993 fps\n"
     ]
    }
   ],
   "source": [
    "#initialize driver\n",
    "\n",
    "initDriver()\n",
    "pyautogui.FAILSAFE = True\n",
    "\n",
    "#delayed start\n",
    "for i in list(range(3))[::-1]:\n",
    "    print(i+1)\n",
    "    time.sleep(1)\n",
    "    \n",
    "cv2.namedWindow('output', cv2.WINDOW_NORMAL)\n",
    "cv2.resizeWindow('output', 600, 220)\n",
    "    \n",
    "#select game window\n",
    "pyautogui.click(x=100, y=400)\n",
    "                \n",
    "#start the game\n",
    "#driver.find_element_by_tag_name('body').send_keys(' ')\n",
    "pyautogui.press('up')\n",
    "\n",
    "last_time = time.time()\n",
    "times = []\n",
    "key = 0\n",
    "start_time = time.time()\n",
    "while(True):\n",
    "    #screen capture\n",
    "    frame = np.array(ImageGrab.grab(bbox=(30,210, 630, 410))) #score cut\n",
    "    \n",
    "    times.append(time.time()-last_time)\n",
    "    last_time = time.time()\n",
    "    current_time = int(round(time.time() - start_time)) + 15\n",
    "    \n",
    "    #process capture\n",
    "    frame_processed = processImage(frame)\n",
    "    \n",
    "    #add time in seconds so AI knows how fast to go\n",
    "    cv2.putText(frame_processed,\n",
    "                text = str(current_time-15),\n",
    "                org = (60,10),\n",
    "                fontFace = cv2.FONT_HERSHEY_PLAIN,\n",
    "                fontScale = 1,\n",
    "                color = 127)\n",
    "    \n",
    "    frame_tensor = np.array(frame_processed).astype('float32')/255\n",
    "    \n",
    "    #need appropriate tensor: convert to shape (1, 40, 120, 1)\n",
    "    frame_tensor = np.expand_dims(frame_tensor, axis = 0)\n",
    "    frame_tensor = np.expand_dims(frame_tensor, axis = 3)\n",
    "    \n",
    "    #input to model\n",
    "    key = model.predict(frame_tensor)\n",
    "    \n",
    "    if (key > 0.20):\n",
    "        pyautogui.press('up')\n",
    "    \n",
    "    #put key on screen so we can see its decision\n",
    "    cv2.putText(frame_processed,\n",
    "                text = \"{0:.2f}\".format(float(key)),\n",
    "                org = (20,10),\n",
    "                fontFace = cv2.FONT_HERSHEY_PLAIN,\n",
    "                fontScale = 0.7,\n",
    "                color = 127)\n",
    "    \n",
    "    key = 0 #reset for next frame\n",
    "    \n",
    "    #output of capture\n",
    "    cv2.imshow('output', frame_processed) #processed\n",
    "    \n",
    "    if cv2.waitKey(25) & 0xFF == ord('q'):\n",
    "        cv2.destroyAllWindows()\n",
    "        print('Average frame time: {} seconds'.format(np.mean(times)))\n",
    "        print('Average Framerate: {} fps'.format(1/np.mean(times)))\n",
    "        #CPU single-threaded limited performance (numpy, opencv)\n",
    "        endDriver()\n",
    "        break"
   ]
  },
  {
   "cell_type": "code",
   "execution_count": null,
   "metadata": {},
   "outputs": [],
   "source": []
  },
  {
   "cell_type": "code",
   "execution_count": null,
   "metadata": {},
   "outputs": [],
   "source": []
  }
 ],
 "metadata": {
  "kernelspec": {
   "display_name": "Python 3",
   "language": "python",
   "name": "python3"
  },
  "language_info": {
   "codemirror_mode": {
    "name": "ipython",
    "version": 3
   },
   "file_extension": ".py",
   "mimetype": "text/x-python",
   "name": "python",
   "nbconvert_exporter": "python",
   "pygments_lexer": "ipython3",
   "version": "3.8.8"
  }
 },
 "nbformat": 4,
 "nbformat_minor": 2
}
