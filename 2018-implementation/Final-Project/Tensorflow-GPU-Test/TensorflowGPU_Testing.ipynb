{
 "cells": [
  {
   "cell_type": "code",
   "execution_count": 1,
   "metadata": {},
   "outputs": [],
   "source": [
    "%matplotlib inline"
   ]
  },
  {
   "cell_type": "code",
   "execution_count": 2,
   "metadata": {},
   "outputs": [],
   "source": [
    "from __future__ import print_function\n",
    "import tensorflow as tf\n",
    "import matplotlib\n",
    "import matplotlib.pyplot as plt\n",
    "import time\n",
    "import os\n",
    "\n",
    "os.environ['TF_CPP_MIN_LOG_LEVEL'] = '3'"
   ]
  },
  {
   "cell_type": "code",
   "execution_count": 3,
   "metadata": {},
   "outputs": [],
   "source": [
    "def get_times(maximum_time):\n",
    "\n",
    "    device_times = {\n",
    "        \"/gpu:0\":[],\n",
    "        \"/cpu:0\":[]\n",
    "    }\n",
    "    matrix_sizes = range(500,50000,50)\n",
    "    \n",
    "    config=tf.compat.v1.ConfigProto(log_device_placement=False)\n",
    "    config.gpu_options.allow_growth = True\n",
    "    \n",
    "    session = tf.compat.v1.Session(config=config)\n",
    "\n",
    "    for size in matrix_sizes:\n",
    "        print(\"####### Matrix size: \" + str(size) + \" #######\")\n",
    "        for device_name in device_times.keys():\n",
    "\n",
    "            print(\"####### Calculating on the \" + device_name + \" #######\")\n",
    "\n",
    "            shape = (size,size)\n",
    "            data_type = tf.float16\n",
    "            with tf.device(device_name):\n",
    "                with tf.compat.v1.get_default_graph().as_default():\n",
    "                    r1 = tf.compat.v1.random_uniform(shape=shape, minval=0, maxval=1, dtype=data_type)\n",
    "                    r2 = tf.compat.v1.random_uniform(shape=shape, minval=0, maxval=1, dtype=data_type)\n",
    "                    dot_operation = tf.matmul(r2, r1)\n",
    "\n",
    "                    start_time = time.time()\n",
    "                    result = session.run(dot_operation)\n",
    "                    time_taken = time.time() - start_time\n",
    "                    device_times[device_name].append(time_taken)\n",
    "                print(\"Time taken:\", time_taken)\n",
    "\n",
    "                if time_taken > maximum_time:\n",
    "                    session.close()\n",
    "                    return device_times, matrix_sizes\n",
    "            "
   ]
  },
  {
   "cell_type": "code",
   "execution_count": 4,
   "metadata": {},
   "outputs": [
    {
     "name": "stdout",
     "output_type": "stream",
     "text": [
      "####### Matrix size: 500 #######\n",
      "####### Calculating on the /gpu:0 #######\n",
      "Time taken: 0.25005412101745605\n",
      "####### Calculating on the /cpu:0 #######\n",
      "Time taken: 0.25099992752075195\n",
      "####### Matrix size: 550 #######\n",
      "####### Calculating on the /gpu:0 #######\n",
      "Time taken: 0.35699892044067383\n",
      "####### Calculating on the /cpu:0 #######\n",
      "Time taken: 0.3640005588531494\n",
      "####### Matrix size: 600 #######\n",
      "####### Calculating on the /gpu:0 #######\n",
      "Time taken: 0.49099016189575195\n",
      "####### Calculating on the /cpu:0 #######\n",
      "Time taken: 0.48299360275268555\n",
      "####### Matrix size: 650 #######\n",
      "####### Calculating on the /gpu:0 #######\n",
      "Time taken: 0.6339986324310303\n",
      "####### Calculating on the /cpu:0 #######\n",
      "Time taken: 0.5950002670288086\n",
      "####### Matrix size: 700 #######\n",
      "####### Calculating on the /gpu:0 #######\n",
      "Time taken: 0.7170071601867676\n",
      "####### Calculating on the /cpu:0 #######\n",
      "Time taken: 0.7200019359588623\n",
      "####### Matrix size: 750 #######\n",
      "####### Calculating on the /gpu:0 #######\n",
      "Time taken: 0.890012264251709\n",
      "####### Calculating on the /cpu:0 #######\n",
      "Time taken: 0.8919975757598877\n",
      "####### Matrix size: 800 #######\n",
      "####### Calculating on the /gpu:0 #######\n",
      "Time taken: 1.0790016651153564\n",
      "####### Calculating on the /cpu:0 #######\n",
      "Time taken: 1.0749895572662354\n",
      "####### Matrix size: 850 #######\n",
      "####### Calculating on the /gpu:0 #######\n",
      "Time taken: 1.3050005435943604\n",
      "####### Calculating on the /cpu:0 #######\n",
      "Time taken: 1.2950007915496826\n",
      "####### Matrix size: 900 #######\n",
      "####### Calculating on the /gpu:0 #######\n",
      "Time taken: 1.5299994945526123\n",
      "####### Calculating on the /cpu:0 #######\n",
      "Time taken: 1.5229971408843994\n",
      "####### Matrix size: 950 #######\n",
      "####### Calculating on the /gpu:0 #######\n",
      "Time taken: 1.8959989547729492\n",
      "####### Calculating on the /cpu:0 #######\n",
      "Time taken: 1.8420155048370361\n",
      "####### Matrix size: 1000 #######\n",
      "####### Calculating on the /gpu:0 #######\n",
      "Time taken: 2.1329994201660156\n",
      "####### Calculating on the /cpu:0 #######\n",
      "Time taken: 2.1060023307800293\n",
      "####### Matrix size: 1050 #######\n",
      "####### Calculating on the /gpu:0 #######\n",
      "Time taken: 2.504000186920166\n",
      "####### Calculating on the /cpu:0 #######\n",
      "Time taken: 2.503000259399414\n",
      "####### Matrix size: 1100 #######\n",
      "####### Calculating on the /gpu:0 #######\n",
      "Time taken: 2.82100248336792\n",
      "####### Calculating on the /cpu:0 #######\n",
      "Time taken: 2.8289995193481445\n",
      "####### Matrix size: 1150 #######\n",
      "####### Calculating on the /gpu:0 #######\n",
      "Time taken: 3.2880003452301025\n",
      "####### Calculating on the /cpu:0 #######\n",
      "Time taken: 3.2800371646881104\n",
      "####### Matrix size: 1200 #######\n",
      "####### Calculating on the /gpu:0 #######\n",
      "Time taken: 3.926973581314087\n",
      "####### Calculating on the /cpu:0 #######\n",
      "Time taken: 3.9306540489196777\n",
      "####### Matrix size: 1250 #######\n",
      "####### Calculating on the /gpu:0 #######\n",
      "Time taken: 4.372993230819702\n",
      "####### Calculating on the /cpu:0 #######\n",
      "Time taken: 4.323721170425415\n",
      "####### Matrix size: 1300 #######\n",
      "####### Calculating on the /gpu:0 #######\n",
      "Time taken: 4.94506573677063\n",
      "####### Calculating on the /cpu:0 #######\n",
      "Time taken: 4.816033124923706\n",
      "####### Matrix size: 1350 #######\n",
      "####### Calculating on the /gpu:0 #######\n",
      "Time taken: 5.520054340362549\n",
      "{'/gpu:0': [0.25005412101745605, 0.35699892044067383, 0.49099016189575195, 0.6339986324310303, 0.7170071601867676, 0.890012264251709, 1.0790016651153564, 1.3050005435943604, 1.5299994945526123, 1.8959989547729492, 2.1329994201660156, 2.504000186920166, 2.82100248336792, 3.2880003452301025, 3.926973581314087, 4.372993230819702, 4.94506573677063, 5.520054340362549], '/cpu:0': [0.25099992752075195, 0.3640005588531494, 0.48299360275268555, 0.5950002670288086, 0.7200019359588623, 0.8919975757598877, 1.0749895572662354, 1.2950007915496826, 1.5229971408843994, 1.8420155048370361, 2.1060023307800293, 2.503000259399414, 2.8289995193481445, 3.2800371646881104, 3.9306540489196777, 4.323721170425415, 4.816033124923706]}\n"
     ]
    }
   ],
   "source": [
    "device_times, matrix_sizes = get_times(5) # Change the number to specify maximum cut-off compute time (in seconds) after which the comparison script is terminated and results displayed.\n",
    "print(device_times)\n",
    "gpu_times = device_times[\"/gpu:0\"]\n",
    "cpu_times = device_times[\"/cpu:0\"]"
   ]
  },
  {
   "cell_type": "code",
   "execution_count": 5,
   "metadata": {},
   "outputs": [
    {
     "data": {
      "image/png": "[encoded data removed]",
      "text/plain": [
       "<Figure size 432x288 with 1 Axes>"
      ]
     },
     "metadata": {
      "needs_background": "light"
     },
     "output_type": "display_data"
    }
   ],
   "source": [
    "plt.plot(matrix_sizes[:len(gpu_times)], gpu_times, 'o-')\n",
    "plt.plot(matrix_sizes[:len(cpu_times)], cpu_times, 'o-')\n",
    "plt.title('TensorFlow CPU vs GPU Comparison')\n",
    "plt.ylabel('Time')\n",
    "plt.xlabel('Matrix size')\n",
    "plt.legend(['nVidia GTX 1070 MaxQ', 'i7-8750H'], loc='best')\n",
    "plt.show()"
   ]
  },
  {
   "cell_type": "code",
   "execution_count": null,
   "metadata": {},
   "outputs": [],
   "source": []
  }
 ],
 "metadata": {
  "kernelspec": {
   "display_name": "Python 3",
   "language": "python",
   "name": "python3"
  },
  "language_info": {
   "codemirror_mode": {
    "name": "ipython",
    "version": 3
   },
   "file_extension": ".py",
   "mimetype": "text/x-python",
   "name": "python",
   "nbconvert_exporter": "python",
   "pygments_lexer": "ipython3",
   "version": "3.8.8"
  }
 },
 "nbformat": 4,
 "nbformat_minor": 2
}
