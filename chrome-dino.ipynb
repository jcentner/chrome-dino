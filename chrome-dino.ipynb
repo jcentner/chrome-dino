{
 "cells": [
  {
   "cell_type": "markdown",
   "id": "8a2f52b8-c51f-42a3-8871-4efd37d3aea9",
   "metadata": {},
   "source": [
    "# Chrome Dino re-write 2023\n",
    "\n",
    "Use Pytorch, stable-baselines3, etc. to implement an agent to play chrome://dino with reinforcement learning.\n",
    "\n",
    "## dependencies\n",
    "- CUDA-enabled Pytorch (Pytorch 2.00; CUDA 1.18)\n",
    "- Stable-Baselines3 (with extras like OpenCV): https://stable-baselines3.readthedocs.io/en/master/\n",
    "- Protobuf (a training dependency) (3.20.*)\n",
    "- pytesseract (interface to Google Tesseract)\n",
    "- Google Tesseract-OCR ((5.3.1.20230401)\n",
    "- Gymn (gym v0.21 since this is used by Stable-Baselines3; RL environment library): https://gymnasium.farama.org/"
   ]
  },
  {
   "cell_type": "code",
   "execution_count": null,
   "id": "b02089c1-d995-4aee-9be7-904bedcb0f6d",
   "metadata": {
    "tags": []
   },
   "outputs": [],
   "source": [
    "!pip install torch torchvision torchaudio --index-url https://download.pytorch.org/whl/cu118"
   ]
  },
  {
   "cell_type": "code",
   "execution_count": null,
   "id": "a4e79f30-c80d-45da-8183-39dc343a2991",
   "metadata": {
    "tags": []
   },
   "outputs": [],
   "source": [
    "# needed to support old version of gym (0.21) used with Stable-Baselines3\n",
    "# gym 0.21 has installation issue; gym moved to Gymnasium; SB3 still does not support Gymnasium \n",
    "!pip install setuptools==66 Cmake git+https://github.com/openai/gym.git@9180d12e1b66e7e2a1a622614f787a6ec147ac40"
   ]
  },
  {
   "cell_type": "code",
   "execution_count": null,
   "id": "a6f422a8-8eb2-492d-9ab1-b276d95bcf73",
   "metadata": {
    "tags": []
   },
   "outputs": [],
   "source": [
    "!pip install stable-baselines3[extra] protobuf==3.20.*"
   ]
  },
  {
   "cell_type": "code",
   "execution_count": null,
   "id": "e8364f7c-3701-48c3-95cb-0488f281d699",
   "metadata": {
    "tags": []
   },
   "outputs": [],
   "source": [
    "!pip install mss pydirectinput pytesseract"
   ]
  },
  {
   "cell_type": "code",
   "execution_count": null,
   "id": "73768984-360c-4107-8122-6024473d995d",
   "metadata": {},
   "outputs": [],
   "source": [
    "from gym import Env\n",
    "from gym.spaces import Box, Discrete\n",
    "screenshot on desktop"
   ]
  },
  {
   "cell_type": "markdown",
   "id": "f78c6147-2f1e-4fbe-b2cd-449b9cac725c",
   "metadata": {},
   "source": [
    "## set up environment"
   ]
  },
  {
   "cell_type": "code",
   "execution_count": null,
   "id": "1e774aea-382f-47ec-bbec-ccfee874c0a1",
   "metadata": {},
   "outputs": [],
   "source": [
    "# create a base Gym environment for managing state\n",
    "# Env must implement step and reset; optionally, render \n",
    "# https://www.gymlibrary.dev/api/core/\n",
    "class ChromeDinoAgent(Env):\n",
    "    \n",
    "    # initialize environment shapes\n",
    "    def __init__(self):\n",
    "        super().__init__()\n",
    "        \n",
    "        # set up observations and actions\n",
    "        self.observation_space = \n",
    "        self.action_space = \n",
    "        \n",
    "        \n",
    "    # run one timestep in the environment\n",
    "    def step(self, action):\n",
    "        \n",
    "        \n",
    "    # reset to initial state, return initial observation\n",
    "    def reset(self):\n",
    "        \n",
    "        \n",
    "    # compute render frames for visualization; render with cv2\n",
    "    def render(self):\n",
    "        \n",
    "        \n",
    "    # do an observation\n",
    "    def observe_environment(self):\n",
    "        \n",
    "        \n",
    "    # identify game over\n",
    "    def game_over(self):\n",
    "        "
   ]
  },
  {
   "cell_type": "code",
   "execution_count": null,
   "id": "18acd610-91ac-440e-ab6c-3c256c443c9f",
   "metadata": {},
   "outputs": [],
   "source": []
  },
  {
   "cell_type": "code",
   "execution_count": null,
   "id": "a7f7aa8c-ecd9-485b-9326-cd17f9a5eb88",
   "metadata": {},
   "outputs": [],
   "source": []
  },
  {
   "cell_type": "markdown",
   "id": "ba51ccf5-21fe-4c0f-aca6-127bab0bf229",
   "metadata": {
    "tags": []
   },
   "source": [
    "## train model\n",
    "\n",
    "Train the DQN and save it using a Stable-Baselines3 callback"
   ]
  },
  {
   "cell_type": "code",
   "execution_count": null,
   "id": "57c36edc-5817-4ba1-95b5-85ab068220b1",
   "metadata": {},
   "outputs": [],
   "source": [
    "# training imports\n",
    "from stable_baselines3 import DQN\n",
    "from stablebaselines3.common.callbacks import BaseCallback\n",
    "import os"
   ]
  },
  {
   "cell_type": "code",
   "execution_count": null,
   "id": "f802d15e-a1bd-43ed-84a5-df159bcbdb49",
   "metadata": {},
   "outputs": [],
   "source": []
  },
  {
   "cell_type": "code",
   "execution_count": null,
   "id": "e8887e88-804f-4553-9df1-087d04e5c47f",
   "metadata": {},
   "outputs": [],
   "source": []
  }
 ],
 "metadata": {
  "kernelspec": {
   "display_name": "Python 3 (ipykernel)",
   "language": "python",
   "name": "python3"
  },
  "language_info": {
   "codemirror_mode": {
    "name": "ipython",
    "version": 3
   },
   "file_extension": ".py",
   "mimetype": "text/x-python",
   "name": "python",
   "nbconvert_exporter": "python",
   "pygments_lexer": "ipython3",
   "version": "3.10.10"
  }
 },
 "nbformat": 4,
 "nbformat_minor": 5
}
