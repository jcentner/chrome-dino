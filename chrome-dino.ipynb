{
 "cells": [
  {
   "cell_type": "markdown",
   "id": "8a2f52b8-c51f-42a3-8871-4efd37d3aea9",
   "metadata": {},
   "source": [
    "# Chrome Dino re-write 2023\n",
    "\n",
    "Use Pytorch, stable-baselines3, etc. to build a model to play chrome://dino with reinforcement learning.\n",
    "\n",
    "## dependencies\n",
    "- CUDA-enabled Pytorch (Pytorch 2.00; CUDA 1.18)\n",
    "- Stable-Baselines3 (with extras like OpenCV): https://stable-baselines3.readthedocs.io/en/master/\n",
    "- Protobuf (a training dependency) (3.20.*)\n",
    "- pytesseract (interface to Google Tesseract)\n",
    "- Google Tesseract-OCR ((5.3.1.20230401)\n",
    "- Gym (gym v0.21 since this is used by Stable-Baselines3; RL environment library): https://gymnasium.farama.org/\n",
    "- MSS (crossplatform screenshots)\n",
    "- openCV (2)\n",
    "- selenium (chrome test driver) (ChromeDriver 112.0.5615.49)"
   ]
  },
  {
   "cell_type": "code",
   "execution_count": null,
   "id": "b02089c1-d995-4aee-9be7-904bedcb0f6d",
   "metadata": {
    "tags": []
   },
   "outputs": [],
   "source": [
    "%%capture\n",
    "!pip install torch torchvision torchaudio --index-url https://download.pytorch.org/whl/cu118"
   ]
  },
  {
   "cell_type": "code",
   "execution_count": null,
   "id": "a4e79f30-c80d-45da-8183-39dc343a2991",
   "metadata": {
    "tags": []
   },
   "outputs": [],
   "source": [
    "%%capture\n",
    "# needed to support old version of gym (0.21) used with Stable-Baselines3\n",
    "# gym 0.21 has installation issue; gym moved to Gymnasium; SB3 still does not support Gymnasium \n",
    "!pip install setuptools==66 Cmake git+https://github.com/openai/gym.git@9180d12e1b66e7e2a1a622614f787a6ec147ac40"
   ]
  },
  {
   "cell_type": "code",
   "execution_count": null,
   "id": "a6f422a8-8eb2-492d-9ab1-b276d95bcf73",
   "metadata": {
    "tags": []
   },
   "outputs": [],
   "source": [
    "%%capture\n",
    "!pip install stable-baselines3[extra] protobuf==3.20.*"
   ]
  },
  {
   "cell_type": "code",
   "execution_count": null,
   "id": "e8364f7c-3701-48c3-95cb-0488f281d699",
   "metadata": {
    "tags": []
   },
   "outputs": [],
   "source": [
    "%%capture\n",
    "!pip install mss pydirectinput pytesseract selenium"
   ]
  },
  {
   "cell_type": "code",
   "execution_count": null,
   "id": "73768984-360c-4107-8122-6024473d995d",
   "metadata": {},
   "outputs": [],
   "source": [
    "import numpy as np\n",
    "import matplotlib.pyplot as plt\n",
    "import cv2\n",
    "import time\n",
    "\n",
    "from mss import mss\n",
    "from gym import Env\n",
    "from gym.spaces import Box, Discrete\n",
    "\n",
    "from selenium import webdriver\n",
    "from selenium.webdriver.chrome.options import Options\n",
    "from selenium.common.exceptions import WebDriverException"
   ]
  },
  {
   "cell_type": "markdown",
   "id": "f78c6147-2f1e-4fbe-b2cd-449b9cac725c",
   "metadata": {},
   "source": [
    "## set up environment"
   ]
  },
  {
   "cell_type": "code",
   "execution_count": null,
   "id": "1e774aea-382f-47ec-bbec-ccfee874c0a1",
   "metadata": {},
   "outputs": [],
   "source": [
    "# create a base Gym environment for managing state\n",
    "# Env must implement step and reset; optionally, render \n",
    "# https://www.gymlibrary.dev/api/core/\n",
    "class ChromeDinoRL(Env):\n",
    "    \n",
    "    # initialize environment spaces\n",
    "    def __init__(self):\n",
    "        super().__init__()\n",
    "        \n",
    "        # set up observations and actions\n",
    "        # multidimensional array as return output from observation (an image)\n",
    "        self.observation_space = Box(low=0, high=255, shape=(1,83,100), dtype=np.uint8)\n",
    "        # two actions: jump or not\n",
    "        self.action_space = Discrete(2)\n",
    "        \n",
    "        # observation parameters\n",
    "        self.capture = mss()\n",
    "        self.game_window = {'top':0, 'left':0, 'width':640, 'height':480}\n",
    "        self.game_over_window = {'top':1, 'left':1, 'width':1, 'height':1}\n",
    "        \n",
    "    # run one timestep in the environment\n",
    "    def step(self, action):\n",
    "        # 0 -> spacebar, 1 -> noop\n",
    "        action_map = {\n",
    "            0: 'space',\n",
    "            1: 'no_op'\n",
    "        }\n",
    "        \n",
    "        \n",
    "    # reset to initial state, return initial observation\n",
    "    def reset(self):\n",
    "        pass\n",
    "        \n",
    "    # compute render frames for visualization; render with cv2\n",
    "    # close everything with \"q\" \n",
    "    def render(self):\n",
    "        cv2.imshow('Chrome Dino', self.current_frame)\n",
    "        if cv2.waitKey(1) & 0xFF == ord('q'):\n",
    "            self.close()\n",
    "        \n",
    "    # do an observation\n",
    "    def observe_env(self):\n",
    "        obs = self.capture.grab(self.game_window)\n",
    "        #obs = np.array(self.capture.grab(self.game_window))[:,:,3].astype(np.uint8)\n",
    "        # preprocessing \n",
    "        \n",
    "        return obs\n",
    "        \n",
    "    # identify game over\n",
    "    def game_over(self):\n",
    "        pass\n",
    "    \n",
    "    def close(self):\n",
    "        cv2.destroyAllWindows()\n",
    "        self.driver.end()\n",
    "    "
   ]
  },
  {
   "cell_type": "markdown",
   "id": "4db9bb3e-970d-421f-91c7-30971b8a0edc",
   "metadata": {},
   "source": [
    "## set up driver\n",
    "\n",
    "automated window setup for consistent environment"
   ]
  },
  {
   "cell_type": "code",
   "execution_count": null,
   "id": "e6119728-cab5-414a-b8d2-10b899af13df",
   "metadata": {},
   "outputs": [],
   "source": [
    "# set up webdriver for selenium on chrome\n",
    "# requires chromedriver present in path specified\n",
    "class ChromeDinoDriver():\n",
    "\n",
    "    def __init__(self):\n",
    "        self.chrome_driver = None\n",
    "        self.chrome_path = r\"chromedriver\\chromedriver.exe\" \n",
    "        self.startpage = \"chrome://dino/\"\n",
    "        self.chrome_options = Options()\n",
    "        self.chrome_options.add_argument(\"--window-size=640,480\")\n",
    "        self.driveractive = False\n",
    "        \n",
    "    # set up and run driver\n",
    "    # options \n",
    "    def run(self):\n",
    "        if not self.driveractive:\n",
    "            self.chrome_driver = webdriver.Chrome(executable_path=self.chrome_path, options=self.chrome_options)\n",
    "            self.chrome_driver.set_window_position(0, 0, windowHandle='current')\n",
    "            try:\n",
    "                self.chrome_driver.get(\"chrome://dino\")\n",
    "                self.driveractive = True\n",
    "            except WebDriverException:\n",
    "                pass # ignore selenium complaining about offline\n",
    "        else:\n",
    "            print(\"Driver already running\")\n",
    "\n",
    "    def end(self): #close driver\n",
    "        if self.driveractive:\n",
    "            self.chrome_driver.quit()\n",
    "            self.driveractive = False\n",
    "        else:\n",
    "            print(\"Driver not running\")"
   ]
  },
  {
   "cell_type": "markdown",
   "id": "adf2852c-5473-413a-82b1-17acc0111918",
   "metadata": {},
   "source": [
    "### misc testing"
   ]
  },
  {
   "cell_type": "code",
   "execution_count": null,
   "id": "18acd610-91ac-440e-ab6c-3c256c443c9f",
   "metadata": {},
   "outputs": [],
   "source": [
    "# test environment\n",
    "env = ChromeDinoRL()"
   ]
  },
  {
   "cell_type": "code",
   "execution_count": null,
   "id": "a7f7aa8c-ecd9-485b-9326-cd17f9a5eb88",
   "metadata": {},
   "outputs": [],
   "source": [
    "# random action; observation space empty\n",
    "print(env.action_space.sample())\n",
    "plt.imshow(env.observation_space.sample()[0])"
   ]
  },
  {
   "cell_type": "code",
   "execution_count": null,
   "id": "bdba83fc-928f-48d3-b2de-0ef11c610c56",
   "metadata": {
    "tags": []
   },
   "outputs": [],
   "source": [
    "# try an observation\n",
    "plt.imshow(np.array(env.observe_env()))"
   ]
  },
  {
   "cell_type": "code",
   "execution_count": null,
   "id": "8b0f8804-33b1-474e-98e5-5ffb75fa0e5a",
   "metadata": {},
   "outputs": [],
   "source": [
    "# test driver\n",
    "driver = ChromeDinoDriver()\n",
    "driver.run()\n",
    "time.sleep(2)\n",
    "driver.end()"
   ]
  },
  {
   "cell_type": "code",
   "execution_count": null,
   "id": "b6118a74-972b-40b3-a727-10334f2a27d4",
   "metadata": {},
   "outputs": [],
   "source": [
    "# start driver and try an observation\n",
    "driver.run()\n",
    "time.sleep(1)\n",
    "plt.imshow(np.array(env.observe_env()))\n",
    "time.sleep(1)\n",
    "driver.end()"
   ]
  },
  {
   "cell_type": "code",
   "execution_count": null,
   "id": "37e18b6c-8ab4-4cdc-9429-9f2a0bc94320",
   "metadata": {},
   "outputs": [],
   "source": []
  },
  {
   "cell_type": "markdown",
   "id": "ba51ccf5-21fe-4c0f-aca6-127bab0bf229",
   "metadata": {
    "tags": []
   },
   "source": [
    "## train model\n",
    "\n",
    "Train the DQN and save it using a Stable-Baselines3 callback"
   ]
  },
  {
   "cell_type": "code",
   "execution_count": null,
   "id": "57c36edc-5817-4ba1-95b5-85ab068220b1",
   "metadata": {},
   "outputs": [],
   "source": [
    "# training imports\n",
    "from stable_baselines3 import DQN\n",
    "from stablebaselines3.common.callbacks import BaseCallback\n",
    "import os"
   ]
  },
  {
   "cell_type": "code",
   "execution_count": null,
   "id": "f802d15e-a1bd-43ed-84a5-df159bcbdb49",
   "metadata": {},
   "outputs": [],
   "source": []
  },
  {
   "cell_type": "code",
   "execution_count": null,
   "id": "e8887e88-804f-4553-9df1-087d04e5c47f",
   "metadata": {},
   "outputs": [],
   "source": []
  }
 ],
 "metadata": {
  "kernelspec": {
   "display_name": "Python 3 (ipykernel)",
   "language": "python",
   "name": "python3"
  },
  "language_info": {
   "codemirror_mode": {
    "name": "ipython",
    "version": 3
   },
   "file_extension": ".py",
   "mimetype": "text/x-python",
   "name": "python",
   "nbconvert_exporter": "python",
   "pygments_lexer": "ipython3",
   "version": "3.10.10"
  }
 },
 "nbformat": 4,
 "nbformat_minor": 5
}
